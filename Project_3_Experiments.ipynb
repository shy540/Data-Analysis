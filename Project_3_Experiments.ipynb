{
  "nbformat": 4,
  "nbformat_minor": 0,
  "metadata": {
    "colab": {
      "provenance": []
    },
    "kernelspec": {
      "name": "ir",
      "display_name": "R"
    },
    "language_info": {
      "name": "R"
    }
  },
  "cells": [
    {
      "cell_type": "code",
      "source": [
        "library(ggplot2)"
      ],
      "metadata": {
        "id": "fmjgY3DwFovW"
      },
      "execution_count": null,
      "outputs": []
    },
    {
      "cell_type": "markdown",
      "source": [
        "**% Individual Stopped per Race with Respect to Population**\n",
        "\n",
        "The following code creates a dataframe that determines the percentage of individuals per race stopped in proportion to their population. \n",
        "\n",
        "The meaning for each of the variables is as follow: \n",
        "\n",
        "*   population_count = The population in Texas for each race\n",
        "*   population_per = The population percentage in Texas for each race\n",
        "*   stopped_count = The count of individuals stopped in Texas for each race\n",
        "*   stopped_per = The percentage of individuals stopped in Texas for each race\n",
        "*   per_stopped_pop = The percentage of individuals stopped in Texas for each race with respect to population\n",
        "*   prop_stopped = The proportion of individuals stopped in Texas for each race with respect to population\n",
        "\n",
        "\n"
      ],
      "metadata": {
        "id": "LakWfEG71B8l"
      }
    },
    {
      "cell_type": "code",
      "execution_count": null,
      "metadata": {
        "id": "tCb94ItlC0sP",
        "colab": {
          "base_uri": "https://localhost:8080/",
          "height": 255
        },
        "outputId": "8b5354e9-0c94-4bed-d28a-89688e0b8b80"
      },
      "outputs": [
        {
          "output_type": "display_data",
          "data": {
            "text/html": [
              "<table class=\"dataframe\">\n",
              "<caption>A data.frame: 5 × 4</caption>\n",
              "<thead>\n",
              "\t<tr><th></th><th scope=col>race</th><th scope=col>population_count</th><th scope=col>stopped_count</th><th scope=col>per_stopped_pop</th></tr>\n",
              "\t<tr><th></th><th scope=col>&lt;chr&gt;</th><th scope=col>&lt;dbl&gt;</th><th scope=col>&lt;dbl&gt;</th><th scope=col>&lt;dbl&gt;</th></tr>\n",
              "</thead>\n",
              "<tbody>\n",
              "\t<tr><th scope=row>1</th><td>White   </td><td>11812100</td><td>800860</td><td>6.779997</td></tr>\n",
              "\t<tr><th scope=row>2</th><td>Hispanic</td><td>10438600</td><td>673554</td><td>6.452532</td></tr>\n",
              "\t<tr><th scope=row>3</th><td>Black   </td><td> 3241460</td><td>169820</td><td>5.238997</td></tr>\n",
              "\t<tr><th scope=row>4</th><td>Asian   </td><td> 1263620</td><td> 30725</td><td>2.431506</td></tr>\n",
              "\t<tr><th scope=row>5</th><td>Other   </td><td>  466990</td><td>  8997</td><td>1.926594</td></tr>\n",
              "</tbody>\n",
              "</table>\n"
            ],
            "text/markdown": "\nA data.frame: 5 × 4\n\n| <!--/--> | race &lt;chr&gt; | population_count &lt;dbl&gt; | stopped_count &lt;dbl&gt; | per_stopped_pop &lt;dbl&gt; |\n|---|---|---|---|---|\n| 1 | White    | 11812100 | 800860 | 6.779997 |\n| 2 | Hispanic | 10438600 | 673554 | 6.452532 |\n| 3 | Black    |  3241460 | 169820 | 5.238997 |\n| 4 | Asian    |  1263620 |  30725 | 2.431506 |\n| 5 | Other    |   466990 |   8997 | 1.926594 |\n\n",
            "text/latex": "A data.frame: 5 × 4\n\\begin{tabular}{r|llll}\n  & race & population\\_count & stopped\\_count & per\\_stopped\\_pop\\\\\n  & <chr> & <dbl> & <dbl> & <dbl>\\\\\n\\hline\n\t1 & White    & 11812100 & 800860 & 6.779997\\\\\n\t2 & Hispanic & 10438600 & 673554 & 6.452532\\\\\n\t3 & Black    &  3241460 & 169820 & 5.238997\\\\\n\t4 & Asian    &  1263620 &  30725 & 2.431506\\\\\n\t5 & Other    &   466990 &   8997 & 1.926594\\\\\n\\end{tabular}\n",
            "text/plain": [
              "  race     population_count stopped_count per_stopped_pop\n",
              "1 White    11812100         800860        6.779997       \n",
              "2 Hispanic 10438600         673554        6.452532       \n",
              "3 Black     3241460         169820        5.238997       \n",
              "4 Asian     1263620          30725        2.431506       \n",
              "5 Other      466990           8997        1.926594       "
            ]
          },
          "metadata": {}
        }
      ],
      "source": [
        "race = c(\"White\", \"Hispanic\", \"Black\", \"Asian\", \"Other\")\n",
        "\n",
        "population_count = c(11812100, 10438600,3241460,1263620, 466990)\n",
        "population_per = c(43, 38.8, 11.8, 4.6, 1.7)\n",
        "\n",
        "stopped_count = c(800860, 673554, 169820, 30725, 8997)\n",
        "stopped_per = c(45.88, 38.59, 9.73, 1.76, 0.52)\n",
        "\n",
        "per_stopped_pop = (stopped_count/population_count) * 100\n",
        "prop_stopped = stopped_per/population_per\n",
        "\n",
        "df_stopped = data.frame(race, population_count, stopped_count,per_stopped_pop)\n",
        "head(df_stopped)"
      ]
    },
    {
      "cell_type": "markdown",
      "source": [
        "The following graph shows the 'Percentage of Individuals Stopped by Race with Respect to Population'"
      ],
      "metadata": {
        "id": "gnyRt0eg2wy0"
      }
    },
    {
      "cell_type": "code",
      "source": [
        "ggplot(df_stopped) +\n",
        "  geom_col(aes(x=race, y = per_stopped_pop))"
      ],
      "metadata": {
        "colab": {
          "base_uri": "https://localhost:8080/",
          "height": 437
        },
        "id": "qKO-pqT5Eg4K",
        "outputId": "649d17e3-61e4-47db-ee82-34b24db1c92d"
      },
      "execution_count": null,
      "outputs": [
        {
          "output_type": "display_data",
          "data": {
            "text/plain": [
              "plot without title"
            ],
            "image/png": "[encoded data removed]"
          },
          "metadata": {
            "image/png": {
              "width": 420,
              "height": 420
            }
          }
        }
      ]
    },
    {
      "cell_type": "markdown",
      "source": [
        "**% Individual Stopped per Race by Gender with Respect to Population**\n",
        "\n",
        "The following code creates a dataframe that determines the percentage of individuals per race by gender stopped in proportion to their population. \n",
        "\n",
        "The meaning for each of the variables is as follow: \n",
        "\n",
        "*   race_g = Race and gender\n",
        "*   population_g_count = The population in Texas for each race by gender\n",
        "*   population_g_per = The population percentage in Texas for each race by gender\n",
        "*   stopped_g_count = The count of individuals stopped in Texas for each race by gender\n",
        "*   stopped_g_per = The percentage of individuals stopped in Texas for each race by gender\n",
        "*   per_stopped_g_pop = The percentage of individuals stopped in Texas for each race by gender with respect to population\n"
      ],
      "metadata": {
        "id": "hZtjKaeS8pKy"
      }
    },
    {
      "cell_type": "code",
      "source": [
        "race_g = c(\"White_F\",\"White_M\", \"Hispanic_F\", \"Hispanic_M\", \"Black_F\",\"Black_M\", \"Asian_F\", \"Asian_M\", \"Other_F\",\"Other_M\")\n",
        "gender = c(\"F\",\"M\", \"F\", \"M\", \"F\", \"M\", \"F\", \"M\", \"F\", \"M\")\n",
        "\n",
        "population_g_per_ = c(21.6, 21.3, 19.5, 19.2, 5.9, 5.8, 2.3, 2.2, .85, .84)\n",
        "population_g_count = c(5933520, 5851110, 5356650, 5274240, 1620730, 1593260, 631810, 604340, 2334950, 2307480)\n",
        "\n",
        "stopped_g_count = c(284587, 516273, 202542, 471000, 60764, 109056, 8629,22096, 2403, 6592 )\n",
        "per_stopped_g_pop = (stopped_g_count/population_g_count) * 100\n",
        "\n",
        "df_stopped_gender = data.frame(race_g, gender, population_g_count, stopped_g_count,per_stopped_pop)\n",
        "head(df_stopped_gender)"
      ],
      "metadata": {
        "id": "xDLM7sS0J0fm",
        "colab": {
          "base_uri": "https://localhost:8080/",
          "height": 286
        },
        "outputId": "0a00836b-ccf8-4a12-9302-f6e95e67866e"
      },
      "execution_count": null,
      "outputs": [
        {
          "output_type": "display_data",
          "data": {
            "text/html": [
              "<table class=\"dataframe\">\n",
              "<caption>A data.frame: 6 × 5</caption>\n",
              "<thead>\n",
              "\t<tr><th></th><th scope=col>race_g</th><th scope=col>gender</th><th scope=col>population_g_count</th><th scope=col>stopped_g_count</th><th scope=col>per_stopped_pop</th></tr>\n",
              "\t<tr><th></th><th scope=col>&lt;chr&gt;</th><th scope=col>&lt;chr&gt;</th><th scope=col>&lt;dbl&gt;</th><th scope=col>&lt;dbl&gt;</th><th scope=col>&lt;dbl&gt;</th></tr>\n",
              "</thead>\n",
              "<tbody>\n",
              "\t<tr><th scope=row>1</th><td>White_F   </td><td>F</td><td>5933520</td><td>284587</td><td>6.779997</td></tr>\n",
              "\t<tr><th scope=row>2</th><td>White_M   </td><td>M</td><td>5851110</td><td>516273</td><td>6.452532</td></tr>\n",
              "\t<tr><th scope=row>3</th><td>Hispanic_F</td><td>F</td><td>5356650</td><td>202542</td><td>5.238997</td></tr>\n",
              "\t<tr><th scope=row>4</th><td>Hispanic_M</td><td>M</td><td>5274240</td><td>471000</td><td>2.431506</td></tr>\n",
              "\t<tr><th scope=row>5</th><td>Black_F   </td><td>F</td><td>1620730</td><td> 60764</td><td>1.926594</td></tr>\n",
              "\t<tr><th scope=row>6</th><td>Black_M   </td><td>M</td><td>1593260</td><td>109056</td><td>6.779997</td></tr>\n",
              "</tbody>\n",
              "</table>\n"
            ],
            "text/markdown": "\nA data.frame: 6 × 5\n\n| <!--/--> | race_g &lt;chr&gt; | gender &lt;chr&gt; | population_g_count &lt;dbl&gt; | stopped_g_count &lt;dbl&gt; | per_stopped_pop &lt;dbl&gt; |\n|---|---|---|---|---|---|\n| 1 | White_F    | F | 5933520 | 284587 | 6.779997 |\n| 2 | White_M    | M | 5851110 | 516273 | 6.452532 |\n| 3 | Hispanic_F | F | 5356650 | 202542 | 5.238997 |\n| 4 | Hispanic_M | M | 5274240 | 471000 | 2.431506 |\n| 5 | Black_F    | F | 1620730 |  60764 | 1.926594 |\n| 6 | Black_M    | M | 1593260 | 109056 | 6.779997 |\n\n",
            "text/latex": "A data.frame: 6 × 5\n\\begin{tabular}{r|lllll}\n  & race\\_g & gender & population\\_g\\_count & stopped\\_g\\_count & per\\_stopped\\_pop\\\\\n  & <chr> & <chr> & <dbl> & <dbl> & <dbl>\\\\\n\\hline\n\t1 & White\\_F    & F & 5933520 & 284587 & 6.779997\\\\\n\t2 & White\\_M    & M & 5851110 & 516273 & 6.452532\\\\\n\t3 & Hispanic\\_F & F & 5356650 & 202542 & 5.238997\\\\\n\t4 & Hispanic\\_M & M & 5274240 & 471000 & 2.431506\\\\\n\t5 & Black\\_F    & F & 1620730 &  60764 & 1.926594\\\\\n\t6 & Black\\_M    & M & 1593260 & 109056 & 6.779997\\\\\n\\end{tabular}\n",
            "text/plain": [
              "  race_g     gender population_g_count stopped_g_count per_stopped_pop\n",
              "1 White_F    F      5933520            284587          6.779997       \n",
              "2 White_M    M      5851110            516273          6.452532       \n",
              "3 Hispanic_F F      5356650            202542          5.238997       \n",
              "4 Hispanic_M M      5274240            471000          2.431506       \n",
              "5 Black_F    F      1620730             60764          1.926594       \n",
              "6 Black_M    M      1593260            109056          6.779997       "
            ]
          },
          "metadata": {}
        }
      ]
    },
    {
      "cell_type": "markdown",
      "source": [
        "The following graph shows the 'Percentage of Individuals Stopped by Race by Gender with Respect to Population'\n",
        "\n",
        "The colors reflect gender, with pink referring to female individuals and blue referring to male individuals. "
      ],
      "metadata": {
        "id": "7UGgguhP-qVx"
      }
    },
    {
      "cell_type": "code",
      "source": [
        "ggplot(df_stopped_gender) +\n",
        "  geom_col(aes(x=race_g, y = per_stopped_g_pop, fill = gender))"
      ],
      "metadata": {
        "colab": {
          "base_uri": "https://localhost:8080/",
          "height": 437
        },
        "id": "7b2FmtsY52F-",
        "outputId": "6d2fb7ca-b592-48c6-fdd6-2ea81b7b3be1"
      },
      "execution_count": null,
      "outputs": [
        {
          "output_type": "display_data",
          "data": {
            "text/plain": [
              "plot without title"
            ],
            "image/png": "[encoded data removed]"
          },
          "metadata": {
            "image/png": {
              "width": 420,
              "height": 420
            }
          }
        }
      ]
    },
    {
      "cell_type": "markdown",
      "source": [
        "**% Female Individual Stopped per Race with Respect to Population**\n",
        "\n",
        "The following code creates a dataframe that determines the percentage of female individuals per race stopped in proportion to their population. "
      ],
      "metadata": {
        "id": "DIZtVLqx-H2W"
      }
    },
    {
      "cell_type": "code",
      "source": [
        "race_F = c(\"White_F\", \"Hispanic_F\",\"Black_F\", \"Asian_F\", \"Other_F\")\n",
        "population_count_F = c(5933520, 5356650, 1620730, 631810, 2334950)\n",
        "stopped_count_F = c (284587, 202542, 60764, 8629, 2403 )\n",
        "per_stopped_F = (stopped_count_F/population_count_F) * 100\n",
        "df_stopped_F = data.frame(race_F, population_count_F,stopped_count_F, per_stopped_F)\n",
        "head(df_stopped_F)"
      ],
      "metadata": {
        "colab": {
          "base_uri": "https://localhost:8080/",
          "height": 255
        },
        "id": "rWemqgbf5fEt",
        "outputId": "0691eaa6-b10d-4a82-ece4-9db1049deeed"
      },
      "execution_count": null,
      "outputs": [
        {
          "output_type": "display_data",
          "data": {
            "text/html": [
              "<table class=\"dataframe\">\n",
              "<caption>A data.frame: 5 × 4</caption>\n",
              "<thead>\n",
              "\t<tr><th></th><th scope=col>race_F</th><th scope=col>population_count_F</th><th scope=col>stopped_count_F</th><th scope=col>per_stopped_F</th></tr>\n",
              "\t<tr><th></th><th scope=col>&lt;chr&gt;</th><th scope=col>&lt;dbl&gt;</th><th scope=col>&lt;dbl&gt;</th><th scope=col>&lt;dbl&gt;</th></tr>\n",
              "</thead>\n",
              "<tbody>\n",
              "\t<tr><th scope=row>1</th><td>White_F   </td><td>5933520</td><td>284587</td><td>4.7962592</td></tr>\n",
              "\t<tr><th scope=row>2</th><td>Hispanic_F</td><td>5356650</td><td>202542</td><td>3.7811319</td></tr>\n",
              "\t<tr><th scope=row>3</th><td>Black_F   </td><td>1620730</td><td> 60764</td><td>3.7491748</td></tr>\n",
              "\t<tr><th scope=row>4</th><td>Asian_F   </td><td> 631810</td><td>  8629</td><td>1.3657587</td></tr>\n",
              "\t<tr><th scope=row>5</th><td>Other_F   </td><td>2334950</td><td>  2403</td><td>0.1029144</td></tr>\n",
              "</tbody>\n",
              "</table>\n"
            ],
            "text/markdown": "\nA data.frame: 5 × 4\n\n| <!--/--> | race_F &lt;chr&gt; | population_count_F &lt;dbl&gt; | stopped_count_F &lt;dbl&gt; | per_stopped_F &lt;dbl&gt; |\n|---|---|---|---|---|\n| 1 | White_F    | 5933520 | 284587 | 4.7962592 |\n| 2 | Hispanic_F | 5356650 | 202542 | 3.7811319 |\n| 3 | Black_F    | 1620730 |  60764 | 3.7491748 |\n| 4 | Asian_F    |  631810 |   8629 | 1.3657587 |\n| 5 | Other_F    | 2334950 |   2403 | 0.1029144 |\n\n",
            "text/latex": "A data.frame: 5 × 4\n\\begin{tabular}{r|llll}\n  & race\\_F & population\\_count\\_F & stopped\\_count\\_F & per\\_stopped\\_F\\\\\n  & <chr> & <dbl> & <dbl> & <dbl>\\\\\n\\hline\n\t1 & White\\_F    & 5933520 & 284587 & 4.7962592\\\\\n\t2 & Hispanic\\_F & 5356650 & 202542 & 3.7811319\\\\\n\t3 & Black\\_F    & 1620730 &  60764 & 3.7491748\\\\\n\t4 & Asian\\_F    &  631810 &   8629 & 1.3657587\\\\\n\t5 & Other\\_F    & 2334950 &   2403 & 0.1029144\\\\\n\\end{tabular}\n",
            "text/plain": [
              "  race_F     population_count_F stopped_count_F per_stopped_F\n",
              "1 White_F    5933520            284587          4.7962592    \n",
              "2 Hispanic_F 5356650            202542          3.7811319    \n",
              "3 Black_F    1620730             60764          3.7491748    \n",
              "4 Asian_F     631810              8629          1.3657587    \n",
              "5 Other_F    2334950              2403          0.1029144    "
            ]
          },
          "metadata": {}
        }
      ]
    },
    {
      "cell_type": "markdown",
      "source": [
        "The following graph shows the 'Percentage of Female Individuals Stopped by Race with Respect to Population'"
      ],
      "metadata": {
        "id": "u142pG2k-3Az"
      }
    },
    {
      "cell_type": "code",
      "source": [
        "ggplot(df_stopped_F) +\n",
        "  geom_col(aes(x=race_F, y = per_stopped_F))"
      ],
      "metadata": {
        "colab": {
          "base_uri": "https://localhost:8080/",
          "height": 437
        },
        "id": "iyh6IiLw8FZH",
        "outputId": "97fa59f3-9b3f-4c47-cabe-16dd884613e5"
      },
      "execution_count": null,
      "outputs": [
        {
          "output_type": "display_data",
          "data": {
            "text/plain": [
              "plot without title"
            ],
            "image/png": "[encoded data removed]"
          },
          "metadata": {
            "image/png": {
              "width": 420,
              "height": 420
            }
          }
        }
      ]
    },
    {
      "cell_type": "markdown",
      "source": [
        "**% Male Individual Stopped per Race with Respect to Population**\n",
        "\n",
        "The following code creates a dataframe that determines the percentage of male individuals per race stopped in proportion to their population. "
      ],
      "metadata": {
        "id": "saZgCV6z-Sc4"
      }
    },
    {
      "cell_type": "code",
      "source": [
        "race_M = c(\"White_M\", \"Hispanic_M\",\"Black_M\", \"Asian_M\", \"Other_M\")\n",
        "population_count_M = c(5851110, 5274240, 1593260, 604340, 2307480)\n",
        "stopped_count_M = c(516273, 471000, 109056,22096, 6592)\n",
        "per_stopped_M = (stopped_count_M/population_count_M) * 100\n",
        "df_stopped_M = data.frame(race_M, population_count_M,stopped_count_M, per_stopped_M)\n",
        "head(df_stopped_M)"
      ],
      "metadata": {
        "colab": {
          "base_uri": "https://localhost:8080/",
          "height": 255
        },
        "id": "7-Q8nfCY7RvG",
        "outputId": "7e87b905-4e87-4385-a707-8b6a8b618bfa"
      },
      "execution_count": null,
      "outputs": [
        {
          "output_type": "display_data",
          "data": {
            "text/html": [
              "<table class=\"dataframe\">\n",
              "<caption>A data.frame: 5 × 4</caption>\n",
              "<thead>\n",
              "\t<tr><th></th><th scope=col>race_M</th><th scope=col>population_count_M</th><th scope=col>stopped_count_M</th><th scope=col>per_stopped_M</th></tr>\n",
              "\t<tr><th></th><th scope=col>&lt;chr&gt;</th><th scope=col>&lt;dbl&gt;</th><th scope=col>&lt;dbl&gt;</th><th scope=col>&lt;dbl&gt;</th></tr>\n",
              "</thead>\n",
              "<tbody>\n",
              "\t<tr><th scope=row>1</th><td>White_M   </td><td>5851110</td><td>516273</td><td>8.8235053</td></tr>\n",
              "\t<tr><th scope=row>2</th><td>Hispanic_M</td><td>5274240</td><td>471000</td><td>8.9301966</td></tr>\n",
              "\t<tr><th scope=row>3</th><td>Black_M   </td><td>1593260</td><td>109056</td><td>6.8448339</td></tr>\n",
              "\t<tr><th scope=row>4</th><td>Asian_M   </td><td> 604340</td><td> 22096</td><td>3.6562200</td></tr>\n",
              "\t<tr><th scope=row>5</th><td>Other_M   </td><td>2307480</td><td>  6592</td><td>0.2856796</td></tr>\n",
              "</tbody>\n",
              "</table>\n"
            ],
            "text/markdown": "\nA data.frame: 5 × 4\n\n| <!--/--> | race_M &lt;chr&gt; | population_count_M &lt;dbl&gt; | stopped_count_M &lt;dbl&gt; | per_stopped_M &lt;dbl&gt; |\n|---|---|---|---|---|\n| 1 | White_M    | 5851110 | 516273 | 8.8235053 |\n| 2 | Hispanic_M | 5274240 | 471000 | 8.9301966 |\n| 3 | Black_M    | 1593260 | 109056 | 6.8448339 |\n| 4 | Asian_M    |  604340 |  22096 | 3.6562200 |\n| 5 | Other_M    | 2307480 |   6592 | 0.2856796 |\n\n",
            "text/latex": "A data.frame: 5 × 4\n\\begin{tabular}{r|llll}\n  & race\\_M & population\\_count\\_M & stopped\\_count\\_M & per\\_stopped\\_M\\\\\n  & <chr> & <dbl> & <dbl> & <dbl>\\\\\n\\hline\n\t1 & White\\_M    & 5851110 & 516273 & 8.8235053\\\\\n\t2 & Hispanic\\_M & 5274240 & 471000 & 8.9301966\\\\\n\t3 & Black\\_M    & 1593260 & 109056 & 6.8448339\\\\\n\t4 & Asian\\_M    &  604340 &  22096 & 3.6562200\\\\\n\t5 & Other\\_M    & 2307480 &   6592 & 0.2856796\\\\\n\\end{tabular}\n",
            "text/plain": [
              "  race_M     population_count_M stopped_count_M per_stopped_M\n",
              "1 White_M    5851110            516273          8.8235053    \n",
              "2 Hispanic_M 5274240            471000          8.9301966    \n",
              "3 Black_M    1593260            109056          6.8448339    \n",
              "4 Asian_M     604340             22096          3.6562200    \n",
              "5 Other_M    2307480              6592          0.2856796    "
            ]
          },
          "metadata": {}
        }
      ]
    },
    {
      "cell_type": "markdown",
      "source": [
        "The following graph shows the 'Percentage of Male Individuals Stopped by Race with Respect to Population'"
      ],
      "metadata": {
        "id": "i-ys_Qp--6v2"
      }
    },
    {
      "cell_type": "code",
      "source": [
        "ggplot(df_stopped_M) +\n",
        "  geom_col(aes(x=race_M, y = per_stopped_M))"
      ],
      "metadata": {
        "colab": {
          "base_uri": "https://localhost:8080/",
          "height": 437
        },
        "id": "jcUnRBlJ8CKa",
        "outputId": "a9ef9551-bb3e-4270-f050-9b161656cd9d"
      },
      "execution_count": null,
      "outputs": [
        {
          "output_type": "display_data",
          "data": {
            "text/plain": [
              "plot without title"
            ],
            "image/png": "[encoded data removed]"
          },
          "metadata": {
            "image/png": {
              "width": 420,
              "height": 420
            }
          }
        }
      ]
    }
  ]
}